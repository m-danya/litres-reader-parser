{
 "cells": [
  {
   "cell_type": "code",
   "execution_count": 48,
   "outputs": [],
   "source": [
    "from selenium import webdriver\n",
    "from selenium.webdriver.common.keys import Keys\n",
    "from selenium.webdriver.common.by import By\n",
    "from tqdm import tqdm\n",
    "import math\n",
    "import time\n",
    "from datetime import datetime\n",
    "import pickle\n",
    "from pathlib import Path\n",
    "import os\n",
    "import requests\n",
    "from bs4 import BeautifulSoup\n",
    "import traceback\n",
    "import sys\n",
    "from requests.adapters import HTTPAdapter\n",
    "from requests.packages.urllib3.util.retry import Retry"
   ],
   "metadata": {
    "collapsed": false,
    "pycharm": {
     "name": "#%%\n"
    }
   }
  },
  {
   "cell_type": "code",
   "execution_count": 15,
   "metadata": {
    "collapsed": true
   },
   "outputs": [
    {
     "name": "stdout",
     "output_type": "stream",
     "text": [
      "1276\n"
     ]
    },
    {
     "name": "stderr",
     "output_type": "stream",
     "text": [
      "100%|██████████| 13/13 [00:23<00:00,  1.83s/it]\n"
     ]
    },
    {
     "name": "stdout",
     "output_type": "stream",
     "text": [
      "949\n"
     ]
    },
    {
     "name": "stderr",
     "output_type": "stream",
     "text": [
      "100%|██████████| 10/10 [00:19<00:00,  1.97s/it]\n"
     ]
    },
    {
     "name": "stdout",
     "output_type": "stream",
     "text": [
      "1168\n"
     ]
    },
    {
     "name": "stderr",
     "output_type": "stream",
     "text": [
      "100%|██████████| 12/12 [00:23<00:00,  1.96s/it]\n"
     ]
    },
    {
     "name": "stdout",
     "output_type": "stream",
     "text": [
      "794\n"
     ]
    },
    {
     "name": "stderr",
     "output_type": "stream",
     "text": [
      "100%|██████████| 8/8 [00:15<00:00,  1.91s/it]\n"
     ]
    }
   ],
   "source": [
    "driver = webdriver.Chrome()\n",
    "book_list_urls = [\n",
    "    'https://reader.litres.ru/vybor/small',\n",
    "    'https://reader.litres.ru/vybor/big',\n",
    "    'https://reader.litres.ru/vybor/modern',\n",
    "    'https://reader.litres.ru/vybor/samizdat'\n",
    "]\n",
    "\n",
    "book_links = []\n",
    "\n",
    "with open('SECRET_LINK.txt') as f:\n",
    "    login_link = f.read()\n",
    "driver.get(login_link)\n",
    "\n",
    "for book_list_url in book_list_urls:\n",
    "    book_list_url += '?sort=name-book' + '&per-page=100&page='\n",
    "    driver.get(book_list_url)\n",
    "    books_n = driver.find_element(By.CLASS_NAME, \"summary\").text\n",
    "    books_n = books_n[books_n.find('из') + 3:-1].replace(' ', '')\n",
    "    books_n = int(books_n)\n",
    "    print(f'{books_n}')\n",
    "    for page in tqdm(range(1, math.ceil(books_n / 100) + 1)):\n",
    "        page_url = book_list_url + str(page)\n",
    "        driver.get(page_url)\n",
    "        for book_button in driver.find_elements(By.PARTIAL_LINK_TEXT, 'ОТКРЫТЬ НА LITRES'):\n",
    "            book_links.append(book_button.get_attribute(\"href\"))\n",
    "        time.sleep(0.5)\n",
    "driver.close()"
   ]
  },
  {
   "cell_type": "markdown",
   "source": [
    "# Pickle the links list"
   ],
   "metadata": {
    "collapsed": false,
    "pycharm": {
     "name": "#%% md\n"
    }
   }
  },
  {
   "cell_type": "code",
   "execution_count": 53,
   "outputs": [],
   "source": [
    "filename = 'books_list_' + datetime.now().strftime(\"%m-%d-%Y_%H-%M\") + '.pkl'\n",
    "output_folder = Path('output')\n",
    "output_folder.mkdir(exist_ok=True)\n",
    "with open(output_folder / filename, 'wb') as f:\n",
    "    pickle.dump(book_links, f)"
   ],
   "metadata": {
    "collapsed": false,
    "pycharm": {
     "name": "#%%\n"
    }
   }
  },
  {
   "cell_type": "markdown",
   "source": [
    "# Load from pickle"
   ],
   "metadata": {
    "collapsed": false,
    "pycharm": {
     "name": "#%% md\n"
    }
   }
  },
  {
   "cell_type": "code",
   "execution_count": 6,
   "outputs": [
    {
     "name": "stdout",
     "output_type": "stream",
     "text": [
      "4187\n"
     ]
    }
   ],
   "source": [
    "output_folder = Path('output')\n",
    "paths = sorted(Path(output_folder).iterdir(), key=os.path.getmtime)\n",
    "idx = -1\n",
    "while 'books_list' not in paths[idx].name:\n",
    "    idx -= 1\n",
    "with open(paths[idx], 'rb') as f:\n",
    "    book_links = pickle.load(f)\n",
    "print(len(book_links))"
   ],
   "metadata": {
    "collapsed": false,
    "pycharm": {
     "name": "#%%\n"
    }
   }
  },
  {
   "cell_type": "code",
   "execution_count": 115,
   "outputs": [
    {
     "name": "stderr",
     "output_type": "stream",
     "text": [
      "https://www.litres.ru/leonid-andreev/v-saburove/: : 34it [01:34,  2.79s/it]                                        \n"
     ]
    },
    {
     "ename": "KeyboardInterrupt",
     "evalue": "",
     "output_type": "error",
     "traceback": [
      "\u001B[0;31m---------------------------------------------------------------------------\u001B[0m",
      "\u001B[0;31mKeyboardInterrupt\u001B[0m                         Traceback (most recent call last)",
      "Input \u001B[0;32mIn [115]\u001B[0m, in \u001B[0;36m<cell line: 3>\u001B[0;34m()\u001B[0m\n\u001B[1;32m      4\u001B[0m pbar\u001B[38;5;241m.\u001B[39mset_description(book_link)\n\u001B[1;32m      5\u001B[0m headers \u001B[38;5;241m=\u001B[39m {\u001B[38;5;124m'\u001B[39m\u001B[38;5;124mUser-Agent\u001B[39m\u001B[38;5;124m'\u001B[39m: \u001B[38;5;124m'\u001B[39m\u001B[38;5;124mMozilla/5.0 (Macintosh; Intel Mac OS X 10_10_1) AppleWebKit/537.36 (KHTML, like Gecko) Chrome/39.0.2171.95 Safari/537.36\u001B[39m\u001B[38;5;124m'\u001B[39m}\n\u001B[0;32m----> 6\u001B[0m r \u001B[38;5;241m=\u001B[39m \u001B[43mrequests\u001B[49m\u001B[38;5;241;43m.\u001B[39;49m\u001B[43mget\u001B[49m\u001B[43m(\u001B[49m\u001B[43mbook_link\u001B[49m\u001B[43m,\u001B[49m\u001B[43m \u001B[49m\u001B[43mheaders\u001B[49m\u001B[38;5;241;43m=\u001B[39;49m\u001B[43mheaders\u001B[49m\u001B[43m)\u001B[49m\n\u001B[1;32m      7\u001B[0m \u001B[38;5;28;01mif\u001B[39;00m r\u001B[38;5;241m.\u001B[39mstatus_code \u001B[38;5;241m!=\u001B[39m \u001B[38;5;241m200\u001B[39m:\n\u001B[1;32m      8\u001B[0m     \u001B[38;5;28;01mif\u001B[39;00m r\u001B[38;5;241m.\u001B[39mstatus_code \u001B[38;5;241m==\u001B[39m \u001B[38;5;241m400\u001B[39m:\n",
      "File \u001B[0;32m~/code/litres-reader-parser/venv/lib/python3.9/site-packages/requests/api.py:73\u001B[0m, in \u001B[0;36mget\u001B[0;34m(url, params, **kwargs)\u001B[0m\n\u001B[1;32m     62\u001B[0m \u001B[38;5;28;01mdef\u001B[39;00m \u001B[38;5;21mget\u001B[39m(url, params\u001B[38;5;241m=\u001B[39m\u001B[38;5;28;01mNone\u001B[39;00m, \u001B[38;5;241m*\u001B[39m\u001B[38;5;241m*\u001B[39mkwargs):\n\u001B[1;32m     63\u001B[0m     \u001B[38;5;124mr\u001B[39m\u001B[38;5;124;03m\"\"\"Sends a GET request.\u001B[39;00m\n\u001B[1;32m     64\u001B[0m \n\u001B[1;32m     65\u001B[0m \u001B[38;5;124;03m    :param url: URL for the new :class:`Request` object.\u001B[39;00m\n\u001B[0;32m   (...)\u001B[0m\n\u001B[1;32m     70\u001B[0m \u001B[38;5;124;03m    :rtype: requests.Response\u001B[39;00m\n\u001B[1;32m     71\u001B[0m \u001B[38;5;124;03m    \"\"\"\u001B[39;00m\n\u001B[0;32m---> 73\u001B[0m     \u001B[38;5;28;01mreturn\u001B[39;00m \u001B[43mrequest\u001B[49m\u001B[43m(\u001B[49m\u001B[38;5;124;43m\"\u001B[39;49m\u001B[38;5;124;43mget\u001B[39;49m\u001B[38;5;124;43m\"\u001B[39;49m\u001B[43m,\u001B[49m\u001B[43m \u001B[49m\u001B[43murl\u001B[49m\u001B[43m,\u001B[49m\u001B[43m \u001B[49m\u001B[43mparams\u001B[49m\u001B[38;5;241;43m=\u001B[39;49m\u001B[43mparams\u001B[49m\u001B[43m,\u001B[49m\u001B[43m \u001B[49m\u001B[38;5;241;43m*\u001B[39;49m\u001B[38;5;241;43m*\u001B[39;49m\u001B[43mkwargs\u001B[49m\u001B[43m)\u001B[49m\n",
      "File \u001B[0;32m~/code/litres-reader-parser/venv/lib/python3.9/site-packages/requests/api.py:59\u001B[0m, in \u001B[0;36mrequest\u001B[0;34m(method, url, **kwargs)\u001B[0m\n\u001B[1;32m     55\u001B[0m \u001B[38;5;66;03m# By using the 'with' statement we are sure the session is closed, thus we\u001B[39;00m\n\u001B[1;32m     56\u001B[0m \u001B[38;5;66;03m# avoid leaving sockets open which can trigger a ResourceWarning in some\u001B[39;00m\n\u001B[1;32m     57\u001B[0m \u001B[38;5;66;03m# cases, and look like a memory leak in others.\u001B[39;00m\n\u001B[1;32m     58\u001B[0m \u001B[38;5;28;01mwith\u001B[39;00m sessions\u001B[38;5;241m.\u001B[39mSession() \u001B[38;5;28;01mas\u001B[39;00m session:\n\u001B[0;32m---> 59\u001B[0m     \u001B[38;5;28;01mreturn\u001B[39;00m \u001B[43msession\u001B[49m\u001B[38;5;241;43m.\u001B[39;49m\u001B[43mrequest\u001B[49m\u001B[43m(\u001B[49m\u001B[43mmethod\u001B[49m\u001B[38;5;241;43m=\u001B[39;49m\u001B[43mmethod\u001B[49m\u001B[43m,\u001B[49m\u001B[43m \u001B[49m\u001B[43murl\u001B[49m\u001B[38;5;241;43m=\u001B[39;49m\u001B[43murl\u001B[49m\u001B[43m,\u001B[49m\u001B[43m \u001B[49m\u001B[38;5;241;43m*\u001B[39;49m\u001B[38;5;241;43m*\u001B[39;49m\u001B[43mkwargs\u001B[49m\u001B[43m)\u001B[49m\n",
      "File \u001B[0;32m~/code/litres-reader-parser/venv/lib/python3.9/site-packages/requests/sessions.py:587\u001B[0m, in \u001B[0;36mSession.request\u001B[0;34m(self, method, url, params, data, headers, cookies, files, auth, timeout, allow_redirects, proxies, hooks, stream, verify, cert, json)\u001B[0m\n\u001B[1;32m    582\u001B[0m send_kwargs \u001B[38;5;241m=\u001B[39m {\n\u001B[1;32m    583\u001B[0m     \u001B[38;5;124m\"\u001B[39m\u001B[38;5;124mtimeout\u001B[39m\u001B[38;5;124m\"\u001B[39m: timeout,\n\u001B[1;32m    584\u001B[0m     \u001B[38;5;124m\"\u001B[39m\u001B[38;5;124mallow_redirects\u001B[39m\u001B[38;5;124m\"\u001B[39m: allow_redirects,\n\u001B[1;32m    585\u001B[0m }\n\u001B[1;32m    586\u001B[0m send_kwargs\u001B[38;5;241m.\u001B[39mupdate(settings)\n\u001B[0;32m--> 587\u001B[0m resp \u001B[38;5;241m=\u001B[39m \u001B[38;5;28;43mself\u001B[39;49m\u001B[38;5;241;43m.\u001B[39;49m\u001B[43msend\u001B[49m\u001B[43m(\u001B[49m\u001B[43mprep\u001B[49m\u001B[43m,\u001B[49m\u001B[43m \u001B[49m\u001B[38;5;241;43m*\u001B[39;49m\u001B[38;5;241;43m*\u001B[39;49m\u001B[43msend_kwargs\u001B[49m\u001B[43m)\u001B[49m\n\u001B[1;32m    589\u001B[0m \u001B[38;5;28;01mreturn\u001B[39;00m resp\n",
      "File \u001B[0;32m~/code/litres-reader-parser/venv/lib/python3.9/site-packages/requests/sessions.py:701\u001B[0m, in \u001B[0;36mSession.send\u001B[0;34m(self, request, **kwargs)\u001B[0m\n\u001B[1;32m    698\u001B[0m start \u001B[38;5;241m=\u001B[39m preferred_clock()\n\u001B[1;32m    700\u001B[0m \u001B[38;5;66;03m# Send the request\u001B[39;00m\n\u001B[0;32m--> 701\u001B[0m r \u001B[38;5;241m=\u001B[39m \u001B[43madapter\u001B[49m\u001B[38;5;241;43m.\u001B[39;49m\u001B[43msend\u001B[49m\u001B[43m(\u001B[49m\u001B[43mrequest\u001B[49m\u001B[43m,\u001B[49m\u001B[43m \u001B[49m\u001B[38;5;241;43m*\u001B[39;49m\u001B[38;5;241;43m*\u001B[39;49m\u001B[43mkwargs\u001B[49m\u001B[43m)\u001B[49m\n\u001B[1;32m    703\u001B[0m \u001B[38;5;66;03m# Total elapsed time of the request (approximately)\u001B[39;00m\n\u001B[1;32m    704\u001B[0m elapsed \u001B[38;5;241m=\u001B[39m preferred_clock() \u001B[38;5;241m-\u001B[39m start\n",
      "File \u001B[0;32m~/code/litres-reader-parser/venv/lib/python3.9/site-packages/requests/adapters.py:489\u001B[0m, in \u001B[0;36mHTTPAdapter.send\u001B[0;34m(self, request, stream, timeout, verify, cert, proxies)\u001B[0m\n\u001B[1;32m    487\u001B[0m \u001B[38;5;28;01mtry\u001B[39;00m:\n\u001B[1;32m    488\u001B[0m     \u001B[38;5;28;01mif\u001B[39;00m \u001B[38;5;129;01mnot\u001B[39;00m chunked:\n\u001B[0;32m--> 489\u001B[0m         resp \u001B[38;5;241m=\u001B[39m \u001B[43mconn\u001B[49m\u001B[38;5;241;43m.\u001B[39;49m\u001B[43murlopen\u001B[49m\u001B[43m(\u001B[49m\n\u001B[1;32m    490\u001B[0m \u001B[43m            \u001B[49m\u001B[43mmethod\u001B[49m\u001B[38;5;241;43m=\u001B[39;49m\u001B[43mrequest\u001B[49m\u001B[38;5;241;43m.\u001B[39;49m\u001B[43mmethod\u001B[49m\u001B[43m,\u001B[49m\n\u001B[1;32m    491\u001B[0m \u001B[43m            \u001B[49m\u001B[43murl\u001B[49m\u001B[38;5;241;43m=\u001B[39;49m\u001B[43murl\u001B[49m\u001B[43m,\u001B[49m\n\u001B[1;32m    492\u001B[0m \u001B[43m            \u001B[49m\u001B[43mbody\u001B[49m\u001B[38;5;241;43m=\u001B[39;49m\u001B[43mrequest\u001B[49m\u001B[38;5;241;43m.\u001B[39;49m\u001B[43mbody\u001B[49m\u001B[43m,\u001B[49m\n\u001B[1;32m    493\u001B[0m \u001B[43m            \u001B[49m\u001B[43mheaders\u001B[49m\u001B[38;5;241;43m=\u001B[39;49m\u001B[43mrequest\u001B[49m\u001B[38;5;241;43m.\u001B[39;49m\u001B[43mheaders\u001B[49m\u001B[43m,\u001B[49m\n\u001B[1;32m    494\u001B[0m \u001B[43m            \u001B[49m\u001B[43mredirect\u001B[49m\u001B[38;5;241;43m=\u001B[39;49m\u001B[38;5;28;43;01mFalse\u001B[39;49;00m\u001B[43m,\u001B[49m\n\u001B[1;32m    495\u001B[0m \u001B[43m            \u001B[49m\u001B[43massert_same_host\u001B[49m\u001B[38;5;241;43m=\u001B[39;49m\u001B[38;5;28;43;01mFalse\u001B[39;49;00m\u001B[43m,\u001B[49m\n\u001B[1;32m    496\u001B[0m \u001B[43m            \u001B[49m\u001B[43mpreload_content\u001B[49m\u001B[38;5;241;43m=\u001B[39;49m\u001B[38;5;28;43;01mFalse\u001B[39;49;00m\u001B[43m,\u001B[49m\n\u001B[1;32m    497\u001B[0m \u001B[43m            \u001B[49m\u001B[43mdecode_content\u001B[49m\u001B[38;5;241;43m=\u001B[39;49m\u001B[38;5;28;43;01mFalse\u001B[39;49;00m\u001B[43m,\u001B[49m\n\u001B[1;32m    498\u001B[0m \u001B[43m            \u001B[49m\u001B[43mretries\u001B[49m\u001B[38;5;241;43m=\u001B[39;49m\u001B[38;5;28;43mself\u001B[39;49m\u001B[38;5;241;43m.\u001B[39;49m\u001B[43mmax_retries\u001B[49m\u001B[43m,\u001B[49m\n\u001B[1;32m    499\u001B[0m \u001B[43m            \u001B[49m\u001B[43mtimeout\u001B[49m\u001B[38;5;241;43m=\u001B[39;49m\u001B[43mtimeout\u001B[49m\u001B[43m,\u001B[49m\n\u001B[1;32m    500\u001B[0m \u001B[43m        \u001B[49m\u001B[43m)\u001B[49m\n\u001B[1;32m    502\u001B[0m     \u001B[38;5;66;03m# Send the request.\u001B[39;00m\n\u001B[1;32m    503\u001B[0m     \u001B[38;5;28;01melse\u001B[39;00m:\n\u001B[1;32m    504\u001B[0m         \u001B[38;5;28;01mif\u001B[39;00m \u001B[38;5;28mhasattr\u001B[39m(conn, \u001B[38;5;124m\"\u001B[39m\u001B[38;5;124mproxy_pool\u001B[39m\u001B[38;5;124m\"\u001B[39m):\n",
      "File \u001B[0;32m~/code/litres-reader-parser/venv/lib/python3.9/site-packages/urllib3/connectionpool.py:703\u001B[0m, in \u001B[0;36mHTTPConnectionPool.urlopen\u001B[0;34m(self, method, url, body, headers, retries, redirect, assert_same_host, timeout, pool_timeout, release_conn, chunked, body_pos, **response_kw)\u001B[0m\n\u001B[1;32m    700\u001B[0m     \u001B[38;5;28mself\u001B[39m\u001B[38;5;241m.\u001B[39m_prepare_proxy(conn)\n\u001B[1;32m    702\u001B[0m \u001B[38;5;66;03m# Make the request on the httplib connection object.\u001B[39;00m\n\u001B[0;32m--> 703\u001B[0m httplib_response \u001B[38;5;241m=\u001B[39m \u001B[38;5;28;43mself\u001B[39;49m\u001B[38;5;241;43m.\u001B[39;49m\u001B[43m_make_request\u001B[49m\u001B[43m(\u001B[49m\n\u001B[1;32m    704\u001B[0m \u001B[43m    \u001B[49m\u001B[43mconn\u001B[49m\u001B[43m,\u001B[49m\n\u001B[1;32m    705\u001B[0m \u001B[43m    \u001B[49m\u001B[43mmethod\u001B[49m\u001B[43m,\u001B[49m\n\u001B[1;32m    706\u001B[0m \u001B[43m    \u001B[49m\u001B[43murl\u001B[49m\u001B[43m,\u001B[49m\n\u001B[1;32m    707\u001B[0m \u001B[43m    \u001B[49m\u001B[43mtimeout\u001B[49m\u001B[38;5;241;43m=\u001B[39;49m\u001B[43mtimeout_obj\u001B[49m\u001B[43m,\u001B[49m\n\u001B[1;32m    708\u001B[0m \u001B[43m    \u001B[49m\u001B[43mbody\u001B[49m\u001B[38;5;241;43m=\u001B[39;49m\u001B[43mbody\u001B[49m\u001B[43m,\u001B[49m\n\u001B[1;32m    709\u001B[0m \u001B[43m    \u001B[49m\u001B[43mheaders\u001B[49m\u001B[38;5;241;43m=\u001B[39;49m\u001B[43mheaders\u001B[49m\u001B[43m,\u001B[49m\n\u001B[1;32m    710\u001B[0m \u001B[43m    \u001B[49m\u001B[43mchunked\u001B[49m\u001B[38;5;241;43m=\u001B[39;49m\u001B[43mchunked\u001B[49m\u001B[43m,\u001B[49m\n\u001B[1;32m    711\u001B[0m \u001B[43m\u001B[49m\u001B[43m)\u001B[49m\n\u001B[1;32m    713\u001B[0m \u001B[38;5;66;03m# If we're going to release the connection in ``finally:``, then\u001B[39;00m\n\u001B[1;32m    714\u001B[0m \u001B[38;5;66;03m# the response doesn't need to know about the connection. Otherwise\u001B[39;00m\n\u001B[1;32m    715\u001B[0m \u001B[38;5;66;03m# it will also try to release it and we'll have a double-release\u001B[39;00m\n\u001B[1;32m    716\u001B[0m \u001B[38;5;66;03m# mess.\u001B[39;00m\n\u001B[1;32m    717\u001B[0m response_conn \u001B[38;5;241m=\u001B[39m conn \u001B[38;5;28;01mif\u001B[39;00m \u001B[38;5;129;01mnot\u001B[39;00m release_conn \u001B[38;5;28;01melse\u001B[39;00m \u001B[38;5;28;01mNone\u001B[39;00m\n",
      "File \u001B[0;32m~/code/litres-reader-parser/venv/lib/python3.9/site-packages/urllib3/connectionpool.py:449\u001B[0m, in \u001B[0;36mHTTPConnectionPool._make_request\u001B[0;34m(self, conn, method, url, timeout, chunked, **httplib_request_kw)\u001B[0m\n\u001B[1;32m    444\u001B[0m             httplib_response \u001B[38;5;241m=\u001B[39m conn\u001B[38;5;241m.\u001B[39mgetresponse()\n\u001B[1;32m    445\u001B[0m         \u001B[38;5;28;01mexcept\u001B[39;00m \u001B[38;5;167;01mBaseException\u001B[39;00m \u001B[38;5;28;01mas\u001B[39;00m e:\n\u001B[1;32m    446\u001B[0m             \u001B[38;5;66;03m# Remove the TypeError from the exception chain in\u001B[39;00m\n\u001B[1;32m    447\u001B[0m             \u001B[38;5;66;03m# Python 3 (including for exceptions like SystemExit).\u001B[39;00m\n\u001B[1;32m    448\u001B[0m             \u001B[38;5;66;03m# Otherwise it looks like a bug in the code.\u001B[39;00m\n\u001B[0;32m--> 449\u001B[0m             \u001B[43msix\u001B[49m\u001B[38;5;241;43m.\u001B[39;49m\u001B[43mraise_from\u001B[49m\u001B[43m(\u001B[49m\u001B[43me\u001B[49m\u001B[43m,\u001B[49m\u001B[43m \u001B[49m\u001B[38;5;28;43;01mNone\u001B[39;49;00m\u001B[43m)\u001B[49m\n\u001B[1;32m    450\u001B[0m \u001B[38;5;28;01mexcept\u001B[39;00m (SocketTimeout, BaseSSLError, SocketError) \u001B[38;5;28;01mas\u001B[39;00m e:\n\u001B[1;32m    451\u001B[0m     \u001B[38;5;28mself\u001B[39m\u001B[38;5;241m.\u001B[39m_raise_timeout(err\u001B[38;5;241m=\u001B[39me, url\u001B[38;5;241m=\u001B[39murl, timeout_value\u001B[38;5;241m=\u001B[39mread_timeout)\n",
      "File \u001B[0;32m<string>:3\u001B[0m, in \u001B[0;36mraise_from\u001B[0;34m(value, from_value)\u001B[0m\n",
      "File \u001B[0;32m~/code/litres-reader-parser/venv/lib/python3.9/site-packages/urllib3/connectionpool.py:444\u001B[0m, in \u001B[0;36mHTTPConnectionPool._make_request\u001B[0;34m(self, conn, method, url, timeout, chunked, **httplib_request_kw)\u001B[0m\n\u001B[1;32m    441\u001B[0m \u001B[38;5;28;01mexcept\u001B[39;00m \u001B[38;5;167;01mTypeError\u001B[39;00m:\n\u001B[1;32m    442\u001B[0m     \u001B[38;5;66;03m# Python 3\u001B[39;00m\n\u001B[1;32m    443\u001B[0m     \u001B[38;5;28;01mtry\u001B[39;00m:\n\u001B[0;32m--> 444\u001B[0m         httplib_response \u001B[38;5;241m=\u001B[39m \u001B[43mconn\u001B[49m\u001B[38;5;241;43m.\u001B[39;49m\u001B[43mgetresponse\u001B[49m\u001B[43m(\u001B[49m\u001B[43m)\u001B[49m\n\u001B[1;32m    445\u001B[0m     \u001B[38;5;28;01mexcept\u001B[39;00m \u001B[38;5;167;01mBaseException\u001B[39;00m \u001B[38;5;28;01mas\u001B[39;00m e:\n\u001B[1;32m    446\u001B[0m         \u001B[38;5;66;03m# Remove the TypeError from the exception chain in\u001B[39;00m\n\u001B[1;32m    447\u001B[0m         \u001B[38;5;66;03m# Python 3 (including for exceptions like SystemExit).\u001B[39;00m\n\u001B[1;32m    448\u001B[0m         \u001B[38;5;66;03m# Otherwise it looks like a bug in the code.\u001B[39;00m\n\u001B[1;32m    449\u001B[0m         six\u001B[38;5;241m.\u001B[39mraise_from(e, \u001B[38;5;28;01mNone\u001B[39;00m)\n",
      "File \u001B[0;32m/usr/lib/python3.9/http/client.py:1377\u001B[0m, in \u001B[0;36mHTTPConnection.getresponse\u001B[0;34m(self)\u001B[0m\n\u001B[1;32m   1375\u001B[0m \u001B[38;5;28;01mtry\u001B[39;00m:\n\u001B[1;32m   1376\u001B[0m     \u001B[38;5;28;01mtry\u001B[39;00m:\n\u001B[0;32m-> 1377\u001B[0m         \u001B[43mresponse\u001B[49m\u001B[38;5;241;43m.\u001B[39;49m\u001B[43mbegin\u001B[49m\u001B[43m(\u001B[49m\u001B[43m)\u001B[49m\n\u001B[1;32m   1378\u001B[0m     \u001B[38;5;28;01mexcept\u001B[39;00m \u001B[38;5;167;01mConnectionError\u001B[39;00m:\n\u001B[1;32m   1379\u001B[0m         \u001B[38;5;28mself\u001B[39m\u001B[38;5;241m.\u001B[39mclose()\n",
      "File \u001B[0;32m/usr/lib/python3.9/http/client.py:320\u001B[0m, in \u001B[0;36mHTTPResponse.begin\u001B[0;34m(self)\u001B[0m\n\u001B[1;32m    318\u001B[0m \u001B[38;5;66;03m# read until we get a non-100 response\u001B[39;00m\n\u001B[1;32m    319\u001B[0m \u001B[38;5;28;01mwhile\u001B[39;00m \u001B[38;5;28;01mTrue\u001B[39;00m:\n\u001B[0;32m--> 320\u001B[0m     version, status, reason \u001B[38;5;241m=\u001B[39m \u001B[38;5;28;43mself\u001B[39;49m\u001B[38;5;241;43m.\u001B[39;49m\u001B[43m_read_status\u001B[49m\u001B[43m(\u001B[49m\u001B[43m)\u001B[49m\n\u001B[1;32m    321\u001B[0m     \u001B[38;5;28;01mif\u001B[39;00m status \u001B[38;5;241m!=\u001B[39m CONTINUE:\n\u001B[1;32m    322\u001B[0m         \u001B[38;5;28;01mbreak\u001B[39;00m\n",
      "File \u001B[0;32m/usr/lib/python3.9/http/client.py:281\u001B[0m, in \u001B[0;36mHTTPResponse._read_status\u001B[0;34m(self)\u001B[0m\n\u001B[1;32m    280\u001B[0m \u001B[38;5;28;01mdef\u001B[39;00m \u001B[38;5;21m_read_status\u001B[39m(\u001B[38;5;28mself\u001B[39m):\n\u001B[0;32m--> 281\u001B[0m     line \u001B[38;5;241m=\u001B[39m \u001B[38;5;28mstr\u001B[39m(\u001B[38;5;28;43mself\u001B[39;49m\u001B[38;5;241;43m.\u001B[39;49m\u001B[43mfp\u001B[49m\u001B[38;5;241;43m.\u001B[39;49m\u001B[43mreadline\u001B[49m\u001B[43m(\u001B[49m\u001B[43m_MAXLINE\u001B[49m\u001B[43m \u001B[49m\u001B[38;5;241;43m+\u001B[39;49m\u001B[43m \u001B[49m\u001B[38;5;241;43m1\u001B[39;49m\u001B[43m)\u001B[49m, \u001B[38;5;124m\"\u001B[39m\u001B[38;5;124miso-8859-1\u001B[39m\u001B[38;5;124m\"\u001B[39m)\n\u001B[1;32m    282\u001B[0m     \u001B[38;5;28;01mif\u001B[39;00m \u001B[38;5;28mlen\u001B[39m(line) \u001B[38;5;241m>\u001B[39m _MAXLINE:\n\u001B[1;32m    283\u001B[0m         \u001B[38;5;28;01mraise\u001B[39;00m LineTooLong(\u001B[38;5;124m\"\u001B[39m\u001B[38;5;124mstatus line\u001B[39m\u001B[38;5;124m\"\u001B[39m)\n",
      "File \u001B[0;32m/usr/lib/python3.9/socket.py:704\u001B[0m, in \u001B[0;36mSocketIO.readinto\u001B[0;34m(self, b)\u001B[0m\n\u001B[1;32m    702\u001B[0m \u001B[38;5;28;01mwhile\u001B[39;00m \u001B[38;5;28;01mTrue\u001B[39;00m:\n\u001B[1;32m    703\u001B[0m     \u001B[38;5;28;01mtry\u001B[39;00m:\n\u001B[0;32m--> 704\u001B[0m         \u001B[38;5;28;01mreturn\u001B[39;00m \u001B[38;5;28;43mself\u001B[39;49m\u001B[38;5;241;43m.\u001B[39;49m\u001B[43m_sock\u001B[49m\u001B[38;5;241;43m.\u001B[39;49m\u001B[43mrecv_into\u001B[49m\u001B[43m(\u001B[49m\u001B[43mb\u001B[49m\u001B[43m)\u001B[49m\n\u001B[1;32m    705\u001B[0m     \u001B[38;5;28;01mexcept\u001B[39;00m timeout:\n\u001B[1;32m    706\u001B[0m         \u001B[38;5;28mself\u001B[39m\u001B[38;5;241m.\u001B[39m_timeout_occurred \u001B[38;5;241m=\u001B[39m \u001B[38;5;28;01mTrue\u001B[39;00m\n",
      "File \u001B[0;32m/usr/lib/python3.9/ssl.py:1242\u001B[0m, in \u001B[0;36mSSLSocket.recv_into\u001B[0;34m(self, buffer, nbytes, flags)\u001B[0m\n\u001B[1;32m   1238\u001B[0m     \u001B[38;5;28;01mif\u001B[39;00m flags \u001B[38;5;241m!=\u001B[39m \u001B[38;5;241m0\u001B[39m:\n\u001B[1;32m   1239\u001B[0m         \u001B[38;5;28;01mraise\u001B[39;00m \u001B[38;5;167;01mValueError\u001B[39;00m(\n\u001B[1;32m   1240\u001B[0m           \u001B[38;5;124m\"\u001B[39m\u001B[38;5;124mnon-zero flags not allowed in calls to recv_into() on \u001B[39m\u001B[38;5;132;01m%s\u001B[39;00m\u001B[38;5;124m\"\u001B[39m \u001B[38;5;241m%\u001B[39m\n\u001B[1;32m   1241\u001B[0m           \u001B[38;5;28mself\u001B[39m\u001B[38;5;241m.\u001B[39m\u001B[38;5;18m__class__\u001B[39m)\n\u001B[0;32m-> 1242\u001B[0m     \u001B[38;5;28;01mreturn\u001B[39;00m \u001B[38;5;28;43mself\u001B[39;49m\u001B[38;5;241;43m.\u001B[39;49m\u001B[43mread\u001B[49m\u001B[43m(\u001B[49m\u001B[43mnbytes\u001B[49m\u001B[43m,\u001B[49m\u001B[43m \u001B[49m\u001B[43mbuffer\u001B[49m\u001B[43m)\u001B[49m\n\u001B[1;32m   1243\u001B[0m \u001B[38;5;28;01melse\u001B[39;00m:\n\u001B[1;32m   1244\u001B[0m     \u001B[38;5;28;01mreturn\u001B[39;00m \u001B[38;5;28msuper\u001B[39m()\u001B[38;5;241m.\u001B[39mrecv_into(buffer, nbytes, flags)\n",
      "File \u001B[0;32m/usr/lib/python3.9/ssl.py:1100\u001B[0m, in \u001B[0;36mSSLSocket.read\u001B[0;34m(self, len, buffer)\u001B[0m\n\u001B[1;32m   1098\u001B[0m \u001B[38;5;28;01mtry\u001B[39;00m:\n\u001B[1;32m   1099\u001B[0m     \u001B[38;5;28;01mif\u001B[39;00m buffer \u001B[38;5;129;01mis\u001B[39;00m \u001B[38;5;129;01mnot\u001B[39;00m \u001B[38;5;28;01mNone\u001B[39;00m:\n\u001B[0;32m-> 1100\u001B[0m         \u001B[38;5;28;01mreturn\u001B[39;00m \u001B[38;5;28;43mself\u001B[39;49m\u001B[38;5;241;43m.\u001B[39;49m\u001B[43m_sslobj\u001B[49m\u001B[38;5;241;43m.\u001B[39;49m\u001B[43mread\u001B[49m\u001B[43m(\u001B[49m\u001B[38;5;28;43mlen\u001B[39;49m\u001B[43m,\u001B[49m\u001B[43m \u001B[49m\u001B[43mbuffer\u001B[49m\u001B[43m)\u001B[49m\n\u001B[1;32m   1101\u001B[0m     \u001B[38;5;28;01melse\u001B[39;00m:\n\u001B[1;32m   1102\u001B[0m         \u001B[38;5;28;01mreturn\u001B[39;00m \u001B[38;5;28mself\u001B[39m\u001B[38;5;241m.\u001B[39m_sslobj\u001B[38;5;241m.\u001B[39mread(\u001B[38;5;28mlen\u001B[39m)\n",
      "\u001B[0;31mKeyboardInterrupt\u001B[0m: "
     ]
    }
   ],
   "source": [
    "books_db = []\n",
    "\n",
    "for i, book_link in (pbar := tqdm(enumerate(book_links))):\n",
    "    pbar.set_description(book_link)\n",
    "    headers = {'User-Agent': 'Mozilla/5.0 (Macintosh; Intel Mac OS X 10_10_1) AppleWebKit/537.36 (KHTML, like Gecko) Chrome/39.0.2171.95 Safari/537.36'}\n",
    "    r = requests.get(book_link, headers=headers)\n",
    "    if r.status_code != 200:\n",
    "        if r.status_code == 400:\n",
    "            continue\n",
    "        else:\n",
    "            print(f'status code is {r.status_code}! Full html:\\n{r.text}')\n",
    "            break\n",
    "    soup = BeautifulSoup(r.text, 'html.parser')\n",
    "    try:\n",
    "        title = soup.find('div', {'class': 'biblio_book_name biblio-book__title-block'})\n",
    "        title = title.h1.text\n",
    "        author = soup.find('div', {'class': 'biblio_book_author'})\n",
    "        author = author.a.span.text\n",
    "    except Exception as e:\n",
    "        print(f\"Couldn't find a book name or an author! {page_url=}\")\n",
    "        print(e)\n",
    "        print(traceback.format_exc())\n",
    "        break  # something is definitely goes wrong\n",
    "    try:\n",
    "        soup.find(itemprop=\"aggregateRating\")\n",
    "        rating_div = soup.find(itemprop=\"aggregateRating\")\n",
    "        mean = rating_div.findChild(\"div\", {'class': \"rating-number\"}).text\n",
    "        mean = float(mean.replace(',', '.'))\n",
    "        n_votes = rating_div.findChild(\"div\", {'class': \"votes-count\"}).text\n",
    "        n_votes = int(n_votes)\n",
    "    except AttributeError as e:\n",
    "        mean, n_votes = 0, 0\n",
    "    pages = 0\n",
    "    published = '???'\n",
    "    try:\n",
    "        info_block = soup.find('ul', {'class': 'biblio_book_info_detailed_left'})\n",
    "        info_lis = info_block.findAll('li')\n",
    "        for info in info_lis:\n",
    "            if 'Дата выхода на ЛитРес' in info.text:\n",
    "                published = info.text[len('Дата выхода на ЛитРес: '):]\n",
    "            if 'Объем: ' in info.text:\n",
    "                pages = info.text\n",
    "                pages = pages[len('Объем: '):pages.find('стр.')]\n",
    "                pages = int(pages)\n",
    "    except AttributeError as e:\n",
    "        pages = 0\n",
    "    book = {\n",
    "        'author': author,\n",
    "        'title': title,\n",
    "        'pages': pages,\n",
    "        'mean_rating': mean,\n",
    "        'n_votes': n_votes,\n",
    "        'link': book_link,\n",
    "        'published': published\n",
    "    }\n",
    "    books_db.append(book)\n",
    "    if (i+1) % 10 == 0:\n",
    "        time.sleep(5)\n",
    "filename = 'books_db_' + datetime.now().strftime(\"%m-%d-%Y_%H-%M\") + '.pkl'\n",
    "output_folder = Path('output')\n",
    "output_folder.mkdir(exist_ok=True)\n",
    "with open(output_folder / filename, 'wb') as f:\n",
    "    pickle.dump(books_db, f)"
   ],
   "metadata": {
    "collapsed": false,
    "pycharm": {
     "name": "#%%\n"
    }
   }
  },
  {
   "cell_type": "code",
   "execution_count": 116,
   "outputs": [
    {
     "name": "stdout",
     "output_type": "stream",
     "text": [
      "{'author': 'Саша Чёрный', 'title': '«Лебединая прохлада»', 'pages': 13, 'mean_rating': 4.8, 'n_votes': 4, 'link': 'https://www.litres.ru/sasha-chernyy/lebedinaya-prohlada/', 'published': '04 марта 2013'}\n",
      "{'author': 'Лазарь Осипович Кармен', 'title': '<Под рождество>', 'pages': 14, 'mean_rating': 3.8, 'n_votes': 7, 'link': 'https://www.litres.ru/lazar-karmen/pod-rozhdestvo/', 'published': '27 ноября 2016'}\n",
      "{'author': 'Владимир Гиляровский', 'title': 'А. И. Южин', 'pages': 6, 'mean_rating': 4.3, 'n_votes': 4, 'link': 'https://www.litres.ru/vladimir-gilyarovskiy/a-i-uzhin/', 'published': '16 ноября 2008'}\n",
      "{'author': 'Владимир Гиляровский', 'title': 'Актер Вольский', 'pages': 14, 'mean_rating': 4.7, 'n_votes': 3, 'link': 'https://www.litres.ru/vladimir-gilyarovskiy/akter-volskiy/', 'published': '16 ноября 2008'}\n",
      "{'author': 'Александр Пушкин', 'title': 'Анджело', 'pages': 14, 'mean_rating': 4.6, 'n_votes': 22, 'link': 'https://www.litres.ru/aleksandr-pushkin/andzhelo/', 'published': '22 декабря 2008'}\n",
      "{'author': 'Надежда Тэффи', 'title': 'Антей', 'pages': 4, 'mean_rating': 5.0, 'n_votes': 9, 'link': 'https://www.litres.ru/nadezhda-teffi/antey/', 'published': '14 ноября 2008'}\n",
      "{'author': 'Надежда Тэффи', 'title': 'Аптечка', 'pages': 6, 'mean_rating': 2.5, 'n_votes': 2, 'link': 'https://www.litres.ru/nadezhda-teffi/aptechka/', 'published': '14 ноября 2008'}\n",
      "{'author': 'Александр Пушкин', 'title': 'Арап Петра Великого', 'pages': 39, 'mean_rating': 4.5, 'n_votes': 155, 'link': 'https://www.litres.ru/aleksandr-pushkin/arap-petra-velikogo/', 'published': '25 декабря 2008'}\n",
      "{'author': 'Саша Чёрный', 'title': 'Армейский спотыкач', 'pages': 12, 'mean_rating': 4.6, 'n_votes': 7, 'link': 'https://www.litres.ru/sasha-chernyy/armeyskiy-spotykach/', 'published': '04 марта 2013'}\n",
      "{'author': 'Эрнест Карлович Ватсон', 'title': 'Артур Шопенгауэр. Его жизнь и научная деятельность', 'pages': 100, 'mean_rating': 4.5, 'n_votes': 11, 'link': 'https://www.litres.ru/ernest-vatson/artur-shopengauer-ego-zhizn-i-nauchnaya-deyatelnost/', 'published': '14 декабря 2008'}\n",
      "{'author': 'Михаил Лермонтов', 'title': 'Ашик-Кериб', 'pages': 10, 'mean_rating': 4.6, 'n_votes': 613, 'link': 'https://www.litres.ru/mihail-lermontov/ashik-kerib-175941/', 'published': '17 декабря 2008'}\n",
      "{'author': 'Надежда Тэффи', 'title': 'Аэродром', 'pages': 4, 'mean_rating': 2.0, 'n_votes': 2, 'link': 'https://www.litres.ru/nadezhda-teffi/aerodrom/', 'published': '14 ноября 2008'}\n",
      "{'author': 'Максим Горький', 'title': 'Бабушка Акулина', 'pages': 12, 'mean_rating': 4.0, 'n_votes': 4, 'link': 'https://www.litres.ru/maksim-gorkiy/babushka-akulina/', 'published': '16 октября 2009'}\n",
      "{'author': 'Дмитрий Мамин-Сибиряк', 'title': 'Балабурда', 'pages': 8, 'mean_rating': 4.5, 'n_votes': 4, 'link': 'https://www.litres.ru/dmitriy-mamin-sibiryak/balaburda/', 'published': '31 января 2014'}\n",
      "{'author': 'Надежда Тэффи', 'title': 'Банный черт', 'pages': 12, 'mean_rating': 5.0, 'n_votes': 1, 'link': 'https://www.litres.ru/nadezhda-teffi/bannyy-chert/', 'published': '14 ноября 2008'}\n",
      "{'author': 'Марина Цветаева', 'title': 'Башня в плюще', 'pages': 10, 'mean_rating': 4.8, 'n_votes': 5, 'link': 'https://www.litres.ru/marina-cvetaeva/bashnya-v-plusche/', 'published': '24 декабря 2008'}\n",
      "{'author': 'Саша Чёрный', 'title': 'Безгласное королевство', 'pages': 13, 'mean_rating': 3.5, 'n_votes': 9, 'link': 'https://www.litres.ru/sasha-chernyy/bezglasnoe-korolevstvo/', 'published': '04 марта 2013'}\n",
      "{'author': 'Александр Грин', 'title': 'Белый огонь', 'pages': 9, 'mean_rating': 4.2, 'n_votes': 9, 'link': 'https://www.litres.ru/aleksandr-grin/belyy-ogon/', 'published': '26 марта 2016'}\n",
      "{'author': 'Александр Амфитеатров', 'title': 'Белый охотник', 'pages': 9, 'mean_rating': 5.0, 'n_votes': 2, 'link': 'https://www.litres.ru/aleksandr-amfiteatrov/belyy-ohotnik/', 'published': '23 января 2012'}\n",
      "{'author': 'Леонид Андреев', 'title': 'Бен-Товит', 'pages': 5, 'mean_rating': 4.3, 'n_votes': 8, 'link': 'https://www.litres.ru/leonid-andreev/ben-tovit/', 'published': '16 января 2012'}\n",
      "{'author': 'Александр Островский', 'title': 'Бесприданница', 'pages': 80, 'mean_rating': 4.8, 'n_votes': 1944, 'link': 'https://www.litres.ru/aleksandr-ostrovskiy/bespridannica/', 'published': '14 ноября 2008'}\n",
      "{'author': 'Максим Горький', 'title': 'Биограф[ия]', 'pages': 10, 'mean_rating': 4.8, 'n_votes': 5, 'link': 'https://www.litres.ru/maksim-gorkiy/biograf-iya/', 'published': '16 октября 2009'}\n",
      "{'author': 'Евгений Замятин', 'title': 'Бич Божий', 'pages': 90, 'mean_rating': 4.4, 'n_votes': 33, 'link': 'https://www.litres.ru/evgeniy-zamyatin/bich-bozhiy/', 'published': '16 октября 2009'}\n",
      "{'author': 'Лев Толстой', 'title': 'Благодарная почва', 'pages': 7, 'mean_rating': 5.0, 'n_votes': 3, 'link': 'https://www.litres.ru/lev-tolstoy/blagodarnaya-pochva/', 'published': '09 декабря 2008'}\n",
      "{'author': 'Дмитрий Васильевич Григорович', 'title': 'Бобыль', 'pages': 25, 'mean_rating': 5.0, 'n_votes': 5, 'link': 'https://www.litres.ru/dmitriy-grigorovich/bobyl/', 'published': '25 ноября 2016'}\n",
      "{'author': 'Максим Горький', 'title': 'Болесь', 'pages': 6, 'mean_rating': 5.0, 'n_votes': 16, 'link': 'https://www.litres.ru/maksim-gorkiy/boles/', 'published': '13 ноября 2008'}\n",
      "{'author': 'Евгений Замятин', 'title': 'Большим детям сказки', 'pages': 19, 'mean_rating': 4.2, 'n_votes': 10, 'link': 'https://www.litres.ru/evgeniy-zamyatin/bolshim-detyam-skazki/', 'published': '27 ноября 2016'}\n",
      "{'author': 'Антон Чехов', 'title': 'Брак по расчету', 'pages': 5, 'mean_rating': 4.7, 'n_votes': 34, 'link': 'https://www.litres.ru/anton-chehov/brak-po-raschetu/', 'published': '24 ноября 2016'}\n",
      "{'author': 'Надежда Тэффи', 'title': 'Брошечка', 'pages': 5, 'mean_rating': 4.7, 'n_votes': 55, 'link': 'https://www.litres.ru/nadezhda-teffi/broshechka/', 'published': '14 ноября 2008'}\n",
      "{'author': 'Владимир Гиляровский', 'title': 'Бурлаки', 'pages': 12, 'mean_rating': 4.5, 'n_votes': 13, 'link': 'https://www.litres.ru/vladimir-gilyarovskiy/burlaki/', 'published': '16 ноября 2008'}\n",
      "{'author': 'Зинаида Гиппиус', 'title': 'В гостиной и в людской', 'pages': 70, 'mean_rating': 5.0, 'n_votes': 3, 'link': 'https://www.litres.ru/zinaida-gippius/v-gostinoy-i-v-ludskoy/', 'published': '14 сентября 2017'}\n",
      "{'author': 'Антон Чехов', 'title': 'В Москве', 'pages': 9, 'mean_rating': 4.5, 'n_votes': 12, 'link': 'https://www.litres.ru/anton-chehov/v-moskve/', 'published': '09 января 2009'}\n",
      "{'author': 'Леонид Андреев', 'title': 'В подвале', 'pages': 13, 'mean_rating': 4.8, 'n_votes': 9, 'link': 'https://www.litres.ru/leonid-andreev/v-podvale/', 'published': '16 января 2012'}\n",
      "{'author': 'Антон Чехов', 'title': 'В потемках', 'pages': 5, 'mean_rating': 5.0, 'n_votes': 8, 'link': 'https://www.litres.ru/anton-chehov/v-potemkah/', 'published': '09 января 2009'}\n"
     ]
    }
   ],
   "source": [
    "for book in books_db:\n",
    "    print(book)"
   ],
   "metadata": {
    "collapsed": false,
    "pycharm": {
     "name": "#%%\n"
    }
   }
  },
  {
   "cell_type": "code",
   "execution_count": 118,
   "outputs": [
    {
     "data": {
      "text/plain": "[{'author': 'Александр Островский',\n  'title': 'Бесприданница',\n  'pages': 80,\n  'mean_rating': 4.8,\n  'n_votes': 1944,\n  'link': 'https://www.litres.ru/aleksandr-ostrovskiy/bespridannica/',\n  'published': '14 ноября 2008'},\n {'author': 'Михаил Лермонтов',\n  'title': 'Ашик-Кериб',\n  'pages': 10,\n  'mean_rating': 4.6,\n  'n_votes': 613,\n  'link': 'https://www.litres.ru/mihail-lermontov/ashik-kerib-175941/',\n  'published': '17 декабря 2008'},\n {'author': 'Александр Пушкин',\n  'title': 'Арап Петра Великого',\n  'pages': 39,\n  'mean_rating': 4.5,\n  'n_votes': 155,\n  'link': 'https://www.litres.ru/aleksandr-pushkin/arap-petra-velikogo/',\n  'published': '25 декабря 2008'},\n {'author': 'Надежда Тэффи',\n  'title': 'Брошечка',\n  'pages': 5,\n  'mean_rating': 4.7,\n  'n_votes': 55,\n  'link': 'https://www.litres.ru/nadezhda-teffi/broshechka/',\n  'published': '14 ноября 2008'},\n {'author': 'Антон Чехов',\n  'title': 'Брак по расчету',\n  'pages': 5,\n  'mean_rating': 4.7,\n  'n_votes': 34,\n  'link': 'https://www.litres.ru/anton-chehov/brak-po-raschetu/',\n  'published': '24 ноября 2016'},\n {'author': 'Евгений Замятин',\n  'title': 'Бич Божий',\n  'pages': 90,\n  'mean_rating': 4.4,\n  'n_votes': 33,\n  'link': 'https://www.litres.ru/evgeniy-zamyatin/bich-bozhiy/',\n  'published': '16 октября 2009'},\n {'author': 'Александр Пушкин',\n  'title': 'Анджело',\n  'pages': 14,\n  'mean_rating': 4.6,\n  'n_votes': 22,\n  'link': 'https://www.litres.ru/aleksandr-pushkin/andzhelo/',\n  'published': '22 декабря 2008'},\n {'author': 'Максим Горький',\n  'title': 'Болесь',\n  'pages': 6,\n  'mean_rating': 5.0,\n  'n_votes': 16,\n  'link': 'https://www.litres.ru/maksim-gorkiy/boles/',\n  'published': '13 ноября 2008'},\n {'author': 'Владимир Гиляровский',\n  'title': 'Бурлаки',\n  'pages': 12,\n  'mean_rating': 4.5,\n  'n_votes': 13,\n  'link': 'https://www.litres.ru/vladimir-gilyarovskiy/burlaki/',\n  'published': '16 ноября 2008'},\n {'author': 'Антон Чехов',\n  'title': 'В Москве',\n  'pages': 9,\n  'mean_rating': 4.5,\n  'n_votes': 12,\n  'link': 'https://www.litres.ru/anton-chehov/v-moskve/',\n  'published': '09 января 2009'},\n {'author': 'Эрнест Карлович Ватсон',\n  'title': 'Артур Шопенгауэр. Его жизнь и научная деятельность',\n  'pages': 100,\n  'mean_rating': 4.5,\n  'n_votes': 11,\n  'link': 'https://www.litres.ru/ernest-vatson/artur-shopengauer-ego-zhizn-i-nauchnaya-deyatelnost/',\n  'published': '14 декабря 2008'},\n {'author': 'Евгений Замятин',\n  'title': 'Большим детям сказки',\n  'pages': 19,\n  'mean_rating': 4.2,\n  'n_votes': 10,\n  'link': 'https://www.litres.ru/evgeniy-zamyatin/bolshim-detyam-skazki/',\n  'published': '27 ноября 2016'},\n {'author': 'Надежда Тэффи',\n  'title': 'Антей',\n  'pages': 4,\n  'mean_rating': 5.0,\n  'n_votes': 9,\n  'link': 'https://www.litres.ru/nadezhda-teffi/antey/',\n  'published': '14 ноября 2008'},\n {'author': 'Саша Чёрный',\n  'title': 'Безгласное королевство',\n  'pages': 13,\n  'mean_rating': 3.5,\n  'n_votes': 9,\n  'link': 'https://www.litres.ru/sasha-chernyy/bezglasnoe-korolevstvo/',\n  'published': '04 марта 2013'},\n {'author': 'Александр Грин',\n  'title': 'Белый огонь',\n  'pages': 9,\n  'mean_rating': 4.2,\n  'n_votes': 9,\n  'link': 'https://www.litres.ru/aleksandr-grin/belyy-ogon/',\n  'published': '26 марта 2016'},\n {'author': 'Леонид Андреев',\n  'title': 'В подвале',\n  'pages': 13,\n  'mean_rating': 4.8,\n  'n_votes': 9,\n  'link': 'https://www.litres.ru/leonid-andreev/v-podvale/',\n  'published': '16 января 2012'},\n {'author': 'Леонид Андреев',\n  'title': 'Бен-Товит',\n  'pages': 5,\n  'mean_rating': 4.3,\n  'n_votes': 8,\n  'link': 'https://www.litres.ru/leonid-andreev/ben-tovit/',\n  'published': '16 января 2012'},\n {'author': 'Антон Чехов',\n  'title': 'В потемках',\n  'pages': 5,\n  'mean_rating': 5.0,\n  'n_votes': 8,\n  'link': 'https://www.litres.ru/anton-chehov/v-potemkah/',\n  'published': '09 января 2009'},\n {'author': 'Лазарь Осипович Кармен',\n  'title': '<Под рождество>',\n  'pages': 14,\n  'mean_rating': 3.8,\n  'n_votes': 7,\n  'link': 'https://www.litres.ru/lazar-karmen/pod-rozhdestvo/',\n  'published': '27 ноября 2016'},\n {'author': 'Саша Чёрный',\n  'title': 'Армейский спотыкач',\n  'pages': 12,\n  'mean_rating': 4.6,\n  'n_votes': 7,\n  'link': 'https://www.litres.ru/sasha-chernyy/armeyskiy-spotykach/',\n  'published': '04 марта 2013'},\n {'author': 'Марина Цветаева',\n  'title': 'Башня в плюще',\n  'pages': 10,\n  'mean_rating': 4.8,\n  'n_votes': 5,\n  'link': 'https://www.litres.ru/marina-cvetaeva/bashnya-v-plusche/',\n  'published': '24 декабря 2008'},\n {'author': 'Максим Горький',\n  'title': 'Биограф[ия]',\n  'pages': 10,\n  'mean_rating': 4.8,\n  'n_votes': 5,\n  'link': 'https://www.litres.ru/maksim-gorkiy/biograf-iya/',\n  'published': '16 октября 2009'},\n {'author': 'Дмитрий Васильевич Григорович',\n  'title': 'Бобыль',\n  'pages': 25,\n  'mean_rating': 5.0,\n  'n_votes': 5,\n  'link': 'https://www.litres.ru/dmitriy-grigorovich/bobyl/',\n  'published': '25 ноября 2016'},\n {'author': 'Саша Чёрный',\n  'title': '«Лебединая прохлада»',\n  'pages': 13,\n  'mean_rating': 4.8,\n  'n_votes': 4,\n  'link': 'https://www.litres.ru/sasha-chernyy/lebedinaya-prohlada/',\n  'published': '04 марта 2013'},\n {'author': 'Владимир Гиляровский',\n  'title': 'А. И. Южин',\n  'pages': 6,\n  'mean_rating': 4.3,\n  'n_votes': 4,\n  'link': 'https://www.litres.ru/vladimir-gilyarovskiy/a-i-uzhin/',\n  'published': '16 ноября 2008'},\n {'author': 'Максим Горький',\n  'title': 'Бабушка Акулина',\n  'pages': 12,\n  'mean_rating': 4.0,\n  'n_votes': 4,\n  'link': 'https://www.litres.ru/maksim-gorkiy/babushka-akulina/',\n  'published': '16 октября 2009'},\n {'author': 'Дмитрий Мамин-Сибиряк',\n  'title': 'Балабурда',\n  'pages': 8,\n  'mean_rating': 4.5,\n  'n_votes': 4,\n  'link': 'https://www.litres.ru/dmitriy-mamin-sibiryak/balaburda/',\n  'published': '31 января 2014'},\n {'author': 'Владимир Гиляровский',\n  'title': 'Актер Вольский',\n  'pages': 14,\n  'mean_rating': 4.7,\n  'n_votes': 3,\n  'link': 'https://www.litres.ru/vladimir-gilyarovskiy/akter-volskiy/',\n  'published': '16 ноября 2008'},\n {'author': 'Лев Толстой',\n  'title': 'Благодарная почва',\n  'pages': 7,\n  'mean_rating': 5.0,\n  'n_votes': 3,\n  'link': 'https://www.litres.ru/lev-tolstoy/blagodarnaya-pochva/',\n  'published': '09 декабря 2008'},\n {'author': 'Зинаида Гиппиус',\n  'title': 'В гостиной и в людской',\n  'pages': 70,\n  'mean_rating': 5.0,\n  'n_votes': 3,\n  'link': 'https://www.litres.ru/zinaida-gippius/v-gostinoy-i-v-ludskoy/',\n  'published': '14 сентября 2017'},\n {'author': 'Надежда Тэффи',\n  'title': 'Аптечка',\n  'pages': 6,\n  'mean_rating': 2.5,\n  'n_votes': 2,\n  'link': 'https://www.litres.ru/nadezhda-teffi/aptechka/',\n  'published': '14 ноября 2008'},\n {'author': 'Надежда Тэффи',\n  'title': 'Аэродром',\n  'pages': 4,\n  'mean_rating': 2.0,\n  'n_votes': 2,\n  'link': 'https://www.litres.ru/nadezhda-teffi/aerodrom/',\n  'published': '14 ноября 2008'},\n {'author': 'Александр Амфитеатров',\n  'title': 'Белый охотник',\n  'pages': 9,\n  'mean_rating': 5.0,\n  'n_votes': 2,\n  'link': 'https://www.litres.ru/aleksandr-amfiteatrov/belyy-ohotnik/',\n  'published': '23 января 2012'},\n {'author': 'Надежда Тэффи',\n  'title': 'Банный черт',\n  'pages': 12,\n  'mean_rating': 5.0,\n  'n_votes': 1,\n  'link': 'https://www.litres.ru/nadezhda-teffi/bannyy-chert/',\n  'published': '14 ноября 2008'}]"
     },
     "execution_count": 118,
     "metadata": {},
     "output_type": "execute_result"
    }
   ],
   "source": [
    "sorted(books_db, key=lambda book: -book['n_votes'])"
   ],
   "metadata": {
    "collapsed": false,
    "pycharm": {
     "name": "#%%\n"
    }
   }
  },
  {
   "cell_type": "code",
   "execution_count": 110,
   "outputs": [
    {
     "name": "stdout",
     "output_type": "stream",
     "text": [
      "Возрастное ограничение: 12+\n",
      "\t\t\t\n",
      "Дата выхода на ЛитРес: 16 октября 2009\n"
     ]
    }
   ],
   "source": [],
   "metadata": {
    "collapsed": false,
    "pycharm": {
     "name": "#%%\n"
    }
   }
  },
  {
   "cell_type": "code",
   "execution_count": 111,
   "outputs": [
    {
     "data": {
      "text/plain": "'16 октября 2009'"
     },
     "execution_count": 111,
     "metadata": {},
     "output_type": "execute_result"
    }
   ],
   "source": [
    "published"
   ],
   "metadata": {
    "collapsed": false,
    "pycharm": {
     "name": "#%%\n"
    }
   }
  },
  {
   "cell_type": "code",
   "execution_count": 119,
   "outputs": [
    {
     "name": "stdout",
     "output_type": "stream",
     "text": [
      "First: \n",
      "«Лебединая прохлада» <Под рождество> А. И. Южин Актер Вольский Анджело Антей Аптечка Арап Петра Великого Армейский спотыкач Артур Шопенгауэр. Его жизнь и научная деятельность Ашик-Кериб Аэродром Бабушка Акулина Балабурда \n",
      "Second: \n",
      "Бабушка Акулина Балабурда Башня в плюще Безгласное королевство Белый огонь Белый охотник Бен-Товит \n"
     ]
    }
   ],
   "source": [
    "first = './output/books_db_14_06-26-2022_13-04.pkl'\n",
    "second = './output/books_db_7_06-26-2022_13-06.pkl'\n",
    "\n",
    "with open(first, 'rb') as f:\n",
    "    first = pickle.load(f)\n",
    "with open(second, 'rb') as f:\n",
    "    second = pickle.load(f)\n",
    "\n",
    "print(\"First: \")\n",
    "for x in first:\n",
    "    print(x['title'], end=\" \")\n",
    "print()\n",
    "print(\"Second: \")\n",
    "for x in second:\n",
    "    print(x['title'], end=\" \")\n",
    "print()"
   ],
   "metadata": {
    "collapsed": false,
    "pycharm": {
     "name": "#%%\n"
    }
   }
  }
 ],
 "metadata": {
  "kernelspec": {
   "display_name": "Python 3",
   "language": "python",
   "name": "python3"
  },
  "language_info": {
   "codemirror_mode": {
    "name": "ipython",
    "version": 2
   },
   "file_extension": ".py",
   "mimetype": "text/x-python",
   "name": "python",
   "nbconvert_exporter": "python",
   "pygments_lexer": "ipython2",
   "version": "2.7.6"
  }
 },
 "nbformat": 4,
 "nbformat_minor": 0
}